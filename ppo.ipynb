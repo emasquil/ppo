{
 "cells": [
  {
   "cell_type": "markdown",
   "source": [
    "[![Colab](https://colab.research.google.com/assets/colab-badge.svg)](https://colab.research.google.com/github/emasquil/ppo/blob/main/ppo.ipynb)"
   ],
   "metadata": {}
  },
  {
   "cell_type": "markdown",
   "source": [
    "# Proximal Policy Optimization (PPO) playground\n",
    "\n",
    "Notebook for running PPO on simple environments from OpenAI Gym"
   ],
   "metadata": {
    "id": "LmQoT8K6nJX_"
   }
  },
  {
   "cell_type": "markdown",
   "source": [
    "## Install dependencies (only on Google Colab)"
   ],
   "metadata": {
    "id": "bAZM8OR8nm2-"
   }
  },
  {
   "cell_type": "markdown",
   "metadata": {},
   "source": [
    "Please run the following cell and after everything has been installed restart the runtime"
   ]
  },
  {
   "cell_type": "code",
   "execution_count": null,
   "source": [
    "# # Installing our own implementation\n",
    "! git clone https://github.com/emasquil/ppo.git\n",
    "! pip install -e /content/ppo\n",
    "\n",
    "# Visualization stuff\n",
    "!sudo apt-get update\n",
    "!sudo apt-get install -y xvfb ffmpeg freeglut3-dev\n",
    "\n",
    "# Dependencies needed for running mujoco on colab\n",
    "!apt-get install -y \\\n",
    "    libgl1-mesa-dev \\\n",
    "    libgl1-mesa-glx \\\n",
    "    libglew-dev \\\n",
    "    libosmesa6-dev \\\n",
    "    software-properties-common\n",
    "\n",
    "!apt-get install -y patchelf\n",
    "\n",
    "!pip install free-mujoco-py\n",
    "!pip install imageio-ffmpeg"
   ]
  },
  {
   "cell_type": "markdown",
   "source": [
    "## Imports"
   ],
   "metadata": {}
  },
  {
   "cell_type": "code",
   "execution_count": null,
   "source": [
    "# Load the TensorBoard notebook extension\n",
    "%load_ext tensorboard\n",
    "\n",
    "# Load autoreload extension\n",
    "%load_ext autoreload\n",
    "%autoreload 2"
   ],
   "outputs": [],
   "metadata": {}
  },
  {
   "cell_type": "code",
   "execution_count": null,
   "source": [
    "import base64\n",
    "import imageio\n",
    "import IPython\n",
    "import tqdm.notebook as tq\n",
    "import numpy as np\n",
    "import os\n",
    "import jax\n",
    "\n",
    "from acme import specs\n",
    "from trax.jaxboard import SummaryWriter\n",
    "import pyvirtualdisplay\n",
    "\n",
    "# Set up a virtual display for rendering.\n",
    "display = pyvirtualdisplay.Display(visible=0, size=(1400, 900)).start()\n",
    "\n",
    "from ppo.agents import VanillaPPO, general_advantage_estimation\n",
    "from ppo.env_wrapper import PendulumEnv, ReacherEnv\n",
    "from ppo.networks import PolicyNetFixedSigma, PolicyNetComplete, ValueNetwork\n",
    "from ppo.replay_buffers import DataLoader"
   ],
   "outputs": [],
   "metadata": {
    "id": "FHET6yCkw4ds"
   }
  },
  {
   "cell_type": "markdown",
   "source": [
    "### Visualization functions"
   ],
   "metadata": {
    "id": "E7_OrJQ0qls7"
   }
  },
  {
   "cell_type": "code",
   "execution_count": null,
   "source": [
    "def display_video(frames, filename=\"temp.mp4\", frame_repeat=1):\n",
    "    \"\"\"Save and display video.\"\"\"\n",
    "    # Write video\n",
    "    with imageio.get_writer(filename, fps=60) as video:\n",
    "        for frame in frames:\n",
    "            for _ in range(frame_repeat):\n",
    "                video.append_data(frame)\n",
    "    # Read video and display the video\n",
    "    video = open(filename, \"rb\").read()\n",
    "    b64_video = base64.b64encode(video)\n",
    "    video_tag = ('<video  width=\"320\" height=\"240\" controls alt=\"test\" ' 'src=\"data:video/mp4;base64,{0}\">').format(\n",
    "        b64_video.decode()\n",
    "    )\n",
    "    return IPython.display.HTML(video_tag)"
   ],
   "outputs": [],
   "metadata": {
    "id": "SOhF8c-AqlTa"
   }
  },
  {
   "cell_type": "markdown",
   "source": [
    "## Definitions\n",
    "\n",
    "Definition of all the parts used in the learning loop: environment, agent, etc."
   ],
   "metadata": {
    "id": "Q-40V1lKDlip"
   }
  },
  {
   "cell_type": "code",
   "execution_count": null,
   "source": [
    "environment = PendulumEnv()\n",
    "environment_spec = specs.make_environment_spec(environment)"
   ],
   "outputs": [],
   "metadata": {
    "id": "rltCiwH2FYWA"
   }
  },
  {
   "cell_type": "code",
   "execution_count": null,
   "source": [
    "# Training\n",
    "num_training_iterations = 50\n",
    "timesteps_per_iteration = 2000\n",
    "gae_lambda = 0.95\n",
    "num_epochs = 10\n",
    "batch_size = 32\n",
    "learning_rate_params = {\n",
    "    \"annealing\": True,\n",
    "    \"initial_learning_rate\": 3e-4,\n",
    "    \"last_learning_rate\": 1e-6,\n",
    "    \"annealing_duration\": num_training_iterations * np.ceil(timesteps_per_iteration / batch_size) * num_epochs,\n",
    "}  # if \"annealing\" = False then \"initial_learning_rate\" is taken as the steady value\n",
    "clipping_ratio_threshold = 0.2\n",
    "max_grad_norm = 0.5\n",
    "discount = 0.99\n",
    "kl_threshold = None  # if kl_threshold is None we're not using it for early stopping\n",
    "# if providing a sigma value, the policy net will only predict the mean and we'll use this fixed value as std\n",
    "policy_net_sigma = 0.3 * (environment_spec.actions.maximum - environment_spec.actions.minimum)\n",
    "policy_net_sigma = None\n",
    "# if not, you need to provide this 2 parameters to set a proper scale for sigma prediction\n",
    "min_sigma = 1e-6 * (environment_spec.actions.maximum - environment_spec.actions.minimum)\n",
    "init_sigma = 0.3 * (environment_spec.actions.maximum - environment_spec.actions.minimum)\n",
    "\n",
    "# Network\n",
    "policy_hidden_layers = [\n",
    "    {\"output_size\": 64, \"std\": np.sqrt(2), \"bias\": 0},\n",
    "    {\"output_size\": 64, \"std\": np.sqrt(2), \"bias\": 0},\n",
    "]\n",
    "policy_last_layer = {\"output_size\": 64, \"std\": 0.01, \"bias\": 0}\n",
    "value_hidden_layers = [\n",
    "    {\"output_size\": 64, \"std\": np.sqrt(2), \"bias\": 0},\n",
    "    {\"output_size\": 64, \"std\": np.sqrt(2), \"bias\": 0},\n",
    "]\n",
    "value_last_layer = {\"output_size\": 64, \"std\": 1, \"bias\": 0}\n",
    "\n",
    "# Logs\n",
    "log_dir = \"experiments\"\n",
    "experiment_name = \"pendulum_0\"\n",
    "\n",
    "# Keys\n",
    "seed = 0\n",
    "key = jax.random.PRNGKey(seed)\n",
    "key, key_init_networks = jax.random.split(key)\n",
    "key, key_sampling_policy = jax.random.split(key)\n",
    "key_dataloader, key_replay_buffer = jax.random.split(key)"
   ],
   "outputs": [],
   "metadata": {}
  },
  {
   "cell_type": "code",
   "execution_count": null,
   "source": [
    "# Create the agent\n",
    "if policy_net_sigma:\n",
    "\n",
    "    def policy_network(observations):\n",
    "        return PolicyNetFixedSigma(\n",
    "            policy_hidden_layers, policy_last_layer, environment_spec.actions, \"policy\", policy_net_sigma\n",
    "        )(observations)\n",
    "\n",
    "else:\n",
    "\n",
    "    def policy_network(observations):\n",
    "        return PolicyNetComplete(\n",
    "            policy_hidden_layers,\n",
    "            policy_last_layer,\n",
    "            environment_spec.actions,\n",
    "            min_sigma=min_sigma,\n",
    "            init_sigma=init_sigma,\n",
    "            name=\"policy\",\n",
    "        )(observations)\n",
    "\n",
    "\n",
    "def value_network(observations):\n",
    "    return ValueNetwork(value_hidden_layers, value_last_layer, \"value\")(observations)\n",
    "\n",
    "\n",
    "agent = VanillaPPO(\n",
    "    observation_spec=environment_spec.observations,\n",
    "    policy_network=policy_network,\n",
    "    value_network=value_network,\n",
    "    key_init_networks=key_init_networks,\n",
    "    key_sampling_policy=key_sampling_policy,\n",
    "    key_replay_buffer=key_replay_buffer,\n",
    "    learning_rate_params=learning_rate_params,\n",
    "    discount=discount,\n",
    "    clipping_ratio_threshold=clipping_ratio_threshold,\n",
    "    max_grad_norm=max_grad_norm,\n",
    ")"
   ],
   "outputs": [],
   "metadata": {
    "id": "xpJvcAOtF2t3"
   }
  },
  {
   "cell_type": "markdown",
   "source": [
    "## Interaction loop"
   ],
   "metadata": {
    "id": "kluuB3xPJd_u"
   }
  },
  {
   "cell_type": "code",
   "execution_count": null,
   "source": [
    "def training_loop(\n",
    "    environment,\n",
    "    agent,\n",
    "    num_training_iterations,\n",
    "    num_epochs,\n",
    "    timesteps_per_iteration,\n",
    "    batch_size,\n",
    "    log_dir,\n",
    "    experiment_name,\n",
    "    kl_threshold,\n",
    "    key_dataloader,\n",
    "    environment_spec,\n",
    "):\n",
    "    \"\"\"\n",
    "    Main training loop\n",
    "    \"\"\"\n",
    "    # Initializing counters\n",
    "    avg_reward = 0.0\n",
    "    episodic_rewards = [[]]\n",
    "    writer = SummaryWriter(os.path.join(log_dir, experiment_name))\n",
    "    writer.text(\"info/title\", f\"Playing {str(environment)}\")\n",
    "    writer.text(\n",
    "        \"info/specs\",\n",
    "        f\"Maximum action: {environment_spec.actions.maximum} | Minimum action: {environment_spec.actions.minimum}\",\n",
    "    )\n",
    "    # Counter to keep track of the global timestep\n",
    "    t = 0\n",
    "    # Counter to keep track of the global episode\n",
    "    episode = 0\n",
    "\n",
    "    pbar = tq.tqdm(range(num_training_iterations), position=0)\n",
    "    pbar.set_description(\"Training loop iteration\")\n",
    "    for iteration in pbar:\n",
    "        # Rollout phase\n",
    "        # Reset any counts and start the environment.\n",
    "        agent.replay_buffer.clear()\n",
    "        timestep = environment.reset()\n",
    "\n",
    "        # Make the first observation.\n",
    "        agent.observe_first(timestep)\n",
    "\n",
    "        pbar_rollout = tq.tqdm(range(timesteps_per_iteration), position=1, leave=False)\n",
    "        pbar_rollout.set_description(f\"Rollout step\")\n",
    "        for rollout_step in pbar_rollout:\n",
    "            pbar_rollout.set_postfix(reward=timestep.reward)\n",
    "\n",
    "            value = agent.get_value(timestep.observation)\n",
    "            action, log_prob = agent.select_action_and_prob(timestep.observation)\n",
    "            timestep = environment.step(action)\n",
    "            agent.observe(value, log_prob, action, timestep)\n",
    "            # Incrementing count of time step\n",
    "            t += 1\n",
    "            # Avg reward per global timestep\n",
    "            avg_reward += (timestep.reward - avg_reward) / t\n",
    "            # Add reward of this timestep\n",
    "            episodic_rewards[-1].append(timestep.reward)\n",
    "\n",
    "            # Add to logs\n",
    "            writer.scalar(\"per_timestep/avg_reward\", avg_reward, t)\n",
    "            writer.scalar(\"per_timestep/reward\", timestep.reward, t)\n",
    "            # Log each action\n",
    "            for i, a in enumerate(action):\n",
    "                writer.scalar(f\"per_timestep/action[{i}]\", a, t)\n",
    "            writer.scalar(\"per_timestep/training_iteration\", iteration, t)\n",
    "            # Log mu and sigma values\n",
    "            mu, sigma = agent.policy_network.apply(agent.policy_params, timestep.observation)\n",
    "            for i in range(len(mu)):\n",
    "                writer.scalar(f\"per_timestep/mu[{i}]\", mu[i], t)\n",
    "                writer.scalar(f\"per_timestep/sigma[{i}]\", sigma[i], t)\n",
    "\n",
    "            if timestep.last():\n",
    "                # Add last value\n",
    "                agent.add_last_value(timestep)\n",
    "                episode += 1\n",
    "                # Only restart the environment if it's not the last timestep we should run\n",
    "                if rollout_step != timesteps_per_iteration - 1:\n",
    "                    episodic_rewards.append([])\n",
    "                    # Restart the episode\n",
    "                    timestep = environment.reset()\n",
    "                    agent.observe_first(timestep)\n",
    "\n",
    "        # Log the average episodic return for the episodes corresponding to this training iteration\n",
    "        # TODO: check if this value is ok of we're missing something\n",
    "        writer.scalar(\"per_training_it/avg_episodic_reward\", np.mean(episodic_rewards), iteration)\n",
    "        writer.scalar(\n",
    "            \"per_training_it/episodic_return\",\n",
    "            np.mean([np.sum(episodic_reward) for episodic_reward in episodic_rewards]),\n",
    "            iteration,\n",
    "        )\n",
    "        episodic_rewards = [[]]\n",
    "\n",
    "        # If last trajectory is not completed, we still need to add the last value\n",
    "        if not timestep.last():\n",
    "            # Add last value\n",
    "            agent.add_last_value(timestep)\n",
    "            episode += 1\n",
    "\n",
    "        # Learning phase\n",
    "        trajectories = agent.get_full_memory()\n",
    "        # Compute advantages\n",
    "        advantages = []\n",
    "        for e, trajectory in enumerate(trajectories):\n",
    "            value, done = agent.get_last_value_and_done(e)\n",
    "            advantages.append(general_advantage_estimation(trajectory, value, done, discount, gae_lambda))\n",
    "        agent.add_advantages(advantages)\n",
    "        # Flatten the replay buffer\n",
    "        agent.replay_buffer.flatten_memory()\n",
    "\n",
    "        key_dataloader, rng = jax.random.split(key_dataloader)\n",
    "        dataloader = DataLoader(agent.replay_buffer, batch_size, rng)\n",
    "\n",
    "        pbar_epochs = tq.tqdm(range(num_epochs), leave=False, position=1)\n",
    "        pbar_epochs.set_description(f\"Epoch\")\n",
    "        for epoch in pbar_epochs:\n",
    "            dataloader.shuffle()\n",
    "            value_losses = []\n",
    "            policy_losses = []\n",
    "            for batch in dataloader:\n",
    "                value_loss, policy_loss, kl_approximation = agent.update(batch)\n",
    "                value_losses.append(value_loss)\n",
    "                policy_losses.append(policy_loss)\n",
    "\n",
    "            writer.scalar(\"per_epoch/value_loss\", np.mean(value_losses), epoch + iteration * num_epochs)\n",
    "            writer.scalar(\"per_epoch/policy_loss\", np.mean(policy_losses), epoch + iteration * num_epochs)\n",
    "            writer.scalar(\"per_epoch/kl_divergence\", kl_approximation, epoch + iteration * num_epochs)\n",
    "            writer.scalar(\"per_epoch/learning_rate\", agent.get_learning_rate())\n",
    "            writer.scalar(\"per_epoch/training_iteration\", iteration, epoch + iteration * num_epochs)\n",
    "\n",
    "            if kl_threshold is not None and kl_approximation > kl_threshold:\n",
    "                pbar_epochs.disp(close=True)\n",
    "                break\n",
    "    return"
   ],
   "outputs": [],
   "metadata": {
    "id": "JNBubvjAr5SM"
   }
  },
  {
   "cell_type": "code",
   "execution_count": null,
   "source": [
    "def evaluate(environment, agent, evaluation_episodes):\n",
    "    frames = []\n",
    "\n",
    "    pbar = tq.tqdm(range(evaluation_episodes))\n",
    "    pbar.set_description(\"Episode\")\n",
    "    for episode in pbar:\n",
    "        timestep = environment.reset()\n",
    "        episode_return = 0\n",
    "        steps = 0\n",
    "        while not timestep.last():\n",
    "            frames.append(environment.render(mode=\"rgb_array\"))\n",
    "            action = agent.select_action(timestep.observation)\n",
    "            timestep = environment.step(action)\n",
    "            steps += 1\n",
    "            episode_return += timestep.reward\n",
    "        print(f\"Episode {episode} ended with reward {episode_return} in {steps} steps\")\n",
    "    return frames"
   ],
   "outputs": [],
   "metadata": {
    "id": "uq51O8PPsOIw"
   }
  },
  {
   "cell_type": "code",
   "execution_count": null,
   "source": [
    "%tensorboard --logdir experiments"
   ]
  },
  {
   "cell_type": "markdown",
   "source": [
    "### Train"
   ],
   "metadata": {
    "id": "BhB764-YsftO"
   }
  },
  {
   "cell_type": "code",
   "execution_count": null,
   "source": [
    "training_loop(\n",
    "    agent=agent,\n",
    "    environment=environment,\n",
    "    timesteps_per_iteration=timesteps_per_iteration,\n",
    "    batch_size=batch_size,\n",
    "    num_training_iterations=num_training_iterations,\n",
    "    num_epochs=num_epochs,\n",
    "    log_dir=log_dir,\n",
    "    experiment_name=experiment_name,\n",
    "    kl_threshold=kl_threshold,\n",
    "    key_dataloader=key_dataloader,\n",
    "    environment_spec=environment_spec,\n",
    ")"
   ],
   "outputs": [],
   "metadata": {
    "id": "7PUY_CJ8Je7-"
   }
  },
  {
   "cell_type": "markdown",
   "source": [
    "### Evaluate"
   ],
   "metadata": {
    "id": "bnjtp6Jcsg2U"
   }
  },
  {
   "cell_type": "code",
   "execution_count": null,
   "source": [
    "display_video(evaluate(agent=agent, environment=environment, evaluation_episodes=5))"
   ],
   "outputs": [],
   "metadata": {
    "id": "jmxMTZXjshnl"
   }
  }
 ],
 "metadata": {
  "colab": {
   "collapsed_sections": [],
   "name": "ppo.ipynb",
   "provenance": []
  },
  "interpreter": {
   "hash": "98f9930fe2848a2b33a267fbaf3bc684d213d3ea326e502697c70dc4c5de83f2"
  },
  "kernelspec": {
   "name": "python3",
   "display_name": "Python 3.9.7 64-bit ('env': venv)"
  },
  "language_info": {
   "codemirror_mode": {
    "name": "ipython",
    "version": 3
   },
   "file_extension": ".py",
   "mimetype": "text/x-python",
   "name": "python",
   "nbconvert_exporter": "python",
   "pygments_lexer": "ipython3",
   "version": "3.9.7"
  }
 },
 "nbformat": 4,
 "nbformat_minor": 4
}