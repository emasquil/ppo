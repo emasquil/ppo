{
 "cells": [
  {
   "cell_type": "markdown",
   "metadata": {},
   "source": [
    "# Pendulum-v1 tutorial"
   ]
  },
  {
   "cell_type": "markdown",
   "metadata": {},
   "source": [
    "To have a complete overview of the environment, I suggest going to see the [documentation](#documentation). There is also in [tutorial](#tutorial) that explains the gym environments in depth."
   ]
  },
  {
   "cell_type": "markdown",
   "metadata": {},
   "source": [
    "## Random action"
   ]
  },
  {
   "cell_type": "code",
   "execution_count": 68,
   "metadata": {},
   "outputs": [
    {
     "name": "stdout",
     "output_type": "stream",
     "text": [
      "Running - Action: [-1.3312082], Reward: -8.048984157059225\n",
      "Running - Action: [-1.255008], Reward: -2.5189606677516605\n",
      "Running - Action: [-0.89207554], Reward: -2.1855836734312644\n"
     ]
    }
   ],
   "source": [
    "import gym  # main package\n",
    "import time  # to slow down the rendering\n",
    "\n",
    "\n",
    "pendulum = gym.make('Pendulum-v1')\n",
    "\n",
    "pendulum.reset()\n",
    "\n",
    "for timestamp in range(30):\n",
    "    pendulum.render(mode=\"human\")\n",
    "    time.sleep(0.1)\n",
    "\n",
    "    action = pendulum.action_space.sample()\n",
    "\n",
    "    state, reward, done, _ = pendulum.step(action)\n",
    "    \n",
    "    if (timestamp + 1) % 10 == 0:\n",
    "        print(f\"Running - Action: {action}, Reward: {reward}\")\n",
    "\n",
    "    if done: \n",
    "        print(f\"Done - Action: {action}, Reward: {reward}\")\n",
    "        break\n",
    "\n",
    "pendulum.close()"
   ]
  },
  {
   "cell_type": "markdown",
   "metadata": {},
   "source": [
    "## Always positive torque"
   ]
  },
  {
   "cell_type": "code",
   "execution_count": 69,
   "metadata": {},
   "outputs": [
    {
     "name": "stdout",
     "output_type": "stream",
     "text": [
      "Running - Action: 2.0, Reward: -2.983765349782882\n",
      "Running - Action: 2.0, Reward: -8.052504325659767\n",
      "Running - Action: 2.0, Reward: -9.79277489304663\n",
      "Running - Action: 2.0, Reward: -4.379487089163942\n",
      "Running - Action: 2.0, Reward: -15.12917450297116\n"
     ]
    }
   ],
   "source": [
    "import gym  # main package\n",
    "import time  # to slow down the rendering\n",
    "\n",
    "\n",
    "pendulum = gym.make('Pendulum-v1')\n",
    "\n",
    "pendulum.reset()\n",
    "max_torque = pendulum.action_space.high[0]\n",
    "\n",
    "for timestamp in range(50):\n",
    "    pendulum.render(mode=\"human\")\n",
    "    time.sleep(0.1)\n",
    "\n",
    "    state, reward, done, _ = pendulum.step([max_torque])\n",
    "    \n",
    "    if (timestamp + 1) % 10 == 0:\n",
    "        print(f\"Running - Action: {max_torque}, Reward: {reward}\")\n",
    "\n",
    "    if done: \n",
    "        print(f\"Done - Action: {max_torque}, Reward: {reward}\")\n",
    "        break\n",
    "\n",
    "pendulum.close()"
   ]
  },
  {
   "cell_type": "markdown",
   "metadata": {},
   "source": [
    "## References\n",
    "\n",
    "<a id=\"documentation\">[documentation]</a>\n",
    "https://www.gymlibrary.ml/pages/environments/classic_control/pendulum\n",
    "\n",
    "<a id=\"tutorial\">[tutorial]</a>\n",
    "https://blog.paperspace.com/getting-started-with-openai-gym/"
   ]
  }
 ],
 "metadata": {
  "interpreter": {
   "hash": "df251f5ecd38383fe75f51134c0e9ca00582fe7af77ffaf039847de4ade1ebff"
  },
  "kernelspec": {
   "display_name": "Python 3.8.10 ('env': venv)",
   "language": "python",
   "name": "python3"
  },
  "language_info": {
   "codemirror_mode": {
    "name": "ipython",
    "version": 3
   },
   "file_extension": ".py",
   "mimetype": "text/x-python",
   "name": "python",
   "nbconvert_exporter": "python",
   "pygments_lexer": "ipython3",
   "version": "3.8.10"
  },
  "orig_nbformat": 4
 },
 "nbformat": 4,
 "nbformat_minor": 2
}
